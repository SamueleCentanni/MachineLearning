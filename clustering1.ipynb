{
 "cells": [
  {
   "cell_type": "markdown",
   "metadata": {},
   "source": [
    "# Clustering\n",
    "\n",
    "Load the `dataset1.csv` and explore the data, showing size, structure and histograms of numeric data; show the histogram of the frequencies of the class labels, contained in the \"y\" column."
   ]
  },
  {
   "cell_type": "code",
   "execution_count": 54,
   "metadata": {},
   "outputs": [],
   "source": [
    "import pandas as pd\n",
    "import numpy as np\n",
    "import matplotlib.pyplot as plt\n",
    "import seaborn as sns"
   ]
  },
  {
   "cell_type": "code",
   "execution_count": 55,
   "metadata": {},
   "outputs": [
    {
     "data": {
      "text/html": [
       "<div>\n",
       "<style scoped>\n",
       "    .dataframe tbody tr th:only-of-type {\n",
       "        vertical-align: middle;\n",
       "    }\n",
       "\n",
       "    .dataframe tbody tr th {\n",
       "        vertical-align: top;\n",
       "    }\n",
       "\n",
       "    .dataframe thead th {\n",
       "        text-align: right;\n",
       "    }\n",
       "</style>\n",
       "<table border=\"1\" class=\"dataframe\">\n",
       "  <thead>\n",
       "    <tr style=\"text-align: right;\">\n",
       "      <th></th>\n",
       "      <th>0</th>\n",
       "      <th>1</th>\n",
       "      <th>y</th>\n",
       "      <th>2</th>\n",
       "    </tr>\n",
       "  </thead>\n",
       "  <tbody>\n",
       "    <tr>\n",
       "      <th>0</th>\n",
       "      <td>1.589942</td>\n",
       "      <td>2.977770</td>\n",
       "      <td>0</td>\n",
       "      <td>1.953805</td>\n",
       "    </tr>\n",
       "    <tr>\n",
       "      <th>1</th>\n",
       "      <td>2.908437</td>\n",
       "      <td>1.837522</td>\n",
       "      <td>1</td>\n",
       "      <td>1.510049</td>\n",
       "    </tr>\n",
       "    <tr>\n",
       "      <th>2</th>\n",
       "      <td>3.284091</td>\n",
       "      <td>1.818476</td>\n",
       "      <td>1</td>\n",
       "      <td>3.307287</td>\n",
       "    </tr>\n",
       "    <tr>\n",
       "      <th>3</th>\n",
       "      <td>3.148717</td>\n",
       "      <td>2.071991</td>\n",
       "      <td>1</td>\n",
       "      <td>3.452021</td>\n",
       "    </tr>\n",
       "    <tr>\n",
       "      <th>4</th>\n",
       "      <td>2.116881</td>\n",
       "      <td>2.133874</td>\n",
       "      <td>0</td>\n",
       "      <td>2.157870</td>\n",
       "    </tr>\n",
       "  </tbody>\n",
       "</table>\n",
       "</div>"
      ],
      "text/plain": [
       "          0         1  y         2\n",
       "0  1.589942  2.977770  0  1.953805\n",
       "1  2.908437  1.837522  1  1.510049\n",
       "2  3.284091  1.818476  1  3.307287\n",
       "3  3.148717  2.071991  1  3.452021\n",
       "4  2.116881  2.133874  0  2.157870"
      ]
     },
     "execution_count": 55,
     "metadata": {},
     "output_type": "execute_result"
    }
   ],
   "source": [
    "url = './exam-superv.csv'\n",
    "df = pd.read_csv(url)\n",
    "\n",
    "# show structure\n",
    "df.head()"
   ]
  },
  {
   "cell_type": "code",
   "execution_count": 56,
   "metadata": {},
   "outputs": [
    {
     "data": {
      "text/html": [
       "<div>\n",
       "<style scoped>\n",
       "    .dataframe tbody tr th:only-of-type {\n",
       "        vertical-align: middle;\n",
       "    }\n",
       "\n",
       "    .dataframe tbody tr th {\n",
       "        vertical-align: top;\n",
       "    }\n",
       "\n",
       "    .dataframe thead th {\n",
       "        text-align: right;\n",
       "    }\n",
       "</style>\n",
       "<table border=\"1\" class=\"dataframe\">\n",
       "  <thead>\n",
       "    <tr style=\"text-align: right;\">\n",
       "      <th></th>\n",
       "      <th>0</th>\n",
       "      <th>1</th>\n",
       "      <th>y</th>\n",
       "      <th>2</th>\n",
       "    </tr>\n",
       "  </thead>\n",
       "  <tbody>\n",
       "    <tr>\n",
       "      <th>count</th>\n",
       "      <td>1200.000000</td>\n",
       "      <td>1200.000000</td>\n",
       "      <td>1200.000000</td>\n",
       "      <td>1200.000000</td>\n",
       "    </tr>\n",
       "    <tr>\n",
       "      <th>mean</th>\n",
       "      <td>2.391668</td>\n",
       "      <td>1.996186</td>\n",
       "      <td>0.507500</td>\n",
       "      <td>2.494236</td>\n",
       "    </tr>\n",
       "    <tr>\n",
       "      <th>std</th>\n",
       "      <td>0.804770</td>\n",
       "      <td>0.507227</td>\n",
       "      <td>0.500152</td>\n",
       "      <td>0.589235</td>\n",
       "    </tr>\n",
       "    <tr>\n",
       "      <th>min</th>\n",
       "      <td>0.343023</td>\n",
       "      <td>0.509424</td>\n",
       "      <td>0.000000</td>\n",
       "      <td>1.500260</td>\n",
       "    </tr>\n",
       "    <tr>\n",
       "      <th>25%</th>\n",
       "      <td>1.806657</td>\n",
       "      <td>1.809635</td>\n",
       "      <td>0.000000</td>\n",
       "      <td>1.974389</td>\n",
       "    </tr>\n",
       "    <tr>\n",
       "      <th>50%</th>\n",
       "      <td>2.744439</td>\n",
       "      <td>1.983524</td>\n",
       "      <td>1.000000</td>\n",
       "      <td>2.469778</td>\n",
       "    </tr>\n",
       "    <tr>\n",
       "      <th>75%</th>\n",
       "      <td>3.092275</td>\n",
       "      <td>2.201484</td>\n",
       "      <td>1.000000</td>\n",
       "      <td>2.995198</td>\n",
       "    </tr>\n",
       "    <tr>\n",
       "      <th>max</th>\n",
       "      <td>3.529782</td>\n",
       "      <td>3.647299</td>\n",
       "      <td>1.000000</td>\n",
       "      <td>3.498523</td>\n",
       "    </tr>\n",
       "  </tbody>\n",
       "</table>\n",
       "</div>"
      ],
      "text/plain": [
       "                 0            1            y            2\n",
       "count  1200.000000  1200.000000  1200.000000  1200.000000\n",
       "mean      2.391668     1.996186     0.507500     2.494236\n",
       "std       0.804770     0.507227     0.500152     0.589235\n",
       "min       0.343023     0.509424     0.000000     1.500260\n",
       "25%       1.806657     1.809635     0.000000     1.974389\n",
       "50%       2.744439     1.983524     1.000000     2.469778\n",
       "75%       3.092275     2.201484     1.000000     2.995198\n",
       "max       3.529782     3.647299     1.000000     3.498523"
      ]
     },
     "execution_count": 56,
     "metadata": {},
     "output_type": "execute_result"
    }
   ],
   "source": [
    "df.describe()"
   ]
  },
  {
   "cell_type": "code",
   "execution_count": 57,
   "metadata": {},
   "outputs": [
    {
     "name": "stdout",
     "output_type": "stream",
     "text": [
      "The dataset has 1200 rows and 4 columns\n"
     ]
    }
   ],
   "source": [
    "# show size\n",
    "print(\"The dataset has {} rows and {} columns\".format(df.shape[0], df.shape[1]))"
   ]
  },
  {
   "cell_type": "code",
   "execution_count": 58,
   "metadata": {},
   "outputs": [
    {
     "data": {
      "text/plain": [
       "array([[<Axes: title={'center': '0'}>, <Axes: title={'center': '1'}>],\n",
       "       [<Axes: title={'center': '2'}>, <Axes: >]], dtype=object)"
      ]
     },
     "execution_count": 58,
     "metadata": {},
     "output_type": "execute_result"
    },
    {
     "data": {
      "image/png": "[encoded data removed]",
      "text/plain": [
       "<Figure size 640x480 with 4 Axes>"
      ]
     },
     "metadata": {},
     "output_type": "display_data"
    }
   ],
   "source": [
    "# histogram of numeric data\n",
    "df.drop(columns='y', axis=1).hist()"
   ]
  },
  {
   "cell_type": "code",
   "execution_count": 59,
   "metadata": {},
   "outputs": [
    {
     "data": {
      "text/plain": [
       "<Axes: xlabel='y'>"
      ]
     },
     "execution_count": 59,
     "metadata": {},
     "output_type": "execute_result"
    },
    {
     "data": {
      "image/png": "[encoded data removed]",
      "text/plain": [
       "<Figure size 640x480 with 1 Axes>"
      ]
     },
     "metadata": {},
     "output_type": "display_data"
    }
   ],
   "source": [
    "# show histogram of class labels\n",
    "df['y'].value_counts().plot(kind='bar')"
   ]
  },
  {
   "cell_type": "markdown",
   "metadata": {},
   "source": [
    "Drop the column \"y\" and find the best clustering scheme and hyper-parameters able to reproduce the y column (hint: drop the columns with little correlation to \"y\")."
   ]
  },
  {
   "cell_type": "code",
   "execution_count": 60,
   "metadata": {},
   "outputs": [
    {
     "data": {
      "text/html": [
       "<div>\n",
       "<style scoped>\n",
       "    .dataframe tbody tr th:only-of-type {\n",
       "        vertical-align: middle;\n",
       "    }\n",
       "\n",
       "    .dataframe tbody tr th {\n",
       "        vertical-align: top;\n",
       "    }\n",
       "\n",
       "    .dataframe thead th {\n",
       "        text-align: right;\n",
       "    }\n",
       "</style>\n",
       "<table border=\"1\" class=\"dataframe\">\n",
       "  <thead>\n",
       "    <tr style=\"text-align: right;\">\n",
       "      <th></th>\n",
       "      <th>0</th>\n",
       "      <th>1</th>\n",
       "      <th>y</th>\n",
       "      <th>2</th>\n",
       "    </tr>\n",
       "  </thead>\n",
       "  <tbody>\n",
       "    <tr>\n",
       "      <th>0</th>\n",
       "      <td>1.000000</td>\n",
       "      <td>-0.018977</td>\n",
       "      <td>0.874676</td>\n",
       "      <td>0.004796</td>\n",
       "    </tr>\n",
       "    <tr>\n",
       "      <th>1</th>\n",
       "      <td>-0.018977</td>\n",
       "      <td>1.000000</td>\n",
       "      <td>-0.000336</td>\n",
       "      <td>0.023921</td>\n",
       "    </tr>\n",
       "    <tr>\n",
       "      <th>y</th>\n",
       "      <td>0.874676</td>\n",
       "      <td>-0.000336</td>\n",
       "      <td>1.000000</td>\n",
       "      <td>0.042789</td>\n",
       "    </tr>\n",
       "    <tr>\n",
       "      <th>2</th>\n",
       "      <td>0.004796</td>\n",
       "      <td>0.023921</td>\n",
       "      <td>0.042789</td>\n",
       "      <td>1.000000</td>\n",
       "    </tr>\n",
       "  </tbody>\n",
       "</table>\n",
       "</div>"
      ],
      "text/plain": [
       "          0         1         y         2\n",
       "0  1.000000 -0.018977  0.874676  0.004796\n",
       "1 -0.018977  1.000000 -0.000336  0.023921\n",
       "y  0.874676 -0.000336  1.000000  0.042789\n",
       "2  0.004796  0.023921  0.042789  1.000000"
      ]
     },
     "execution_count": 60,
     "metadata": {},
     "output_type": "execute_result"
    }
   ],
   "source": [
    "df.corr()\n"
   ]
  },
  {
   "cell_type": "markdown",
   "metadata": {},
   "source": [
    "We can see that the columns \"1\" and \"2\" have little correlation with y, so i can drop them"
   ]
  },
  {
   "cell_type": "code",
   "execution_count": 61,
   "metadata": {},
   "outputs": [
    {
     "name": "stdout",
     "output_type": "stream",
     "text": [
      "Now, the new dataset has 1200 rows and 1 columns\n"
     ]
    }
   ],
   "source": [
    "target = 'y'\n",
    "\n",
    "X = df.drop(columns=[target, '1', '2'], axis=1)\n",
    "y = df[target]\n",
    "\n",
    "print(\"Now, the new dataset has {} rows and {} columns\".format(X.shape[0], X.shape[1]))"
   ]
  },
  {
   "cell_type": "code",
   "execution_count": 62,
   "metadata": {},
   "outputs": [],
   "source": [
    "# first try: use KMeans\n",
    "\n",
    "from sklearn.cluster import KMeans\n",
    "from sklearn.model_selection import ParameterGrid\n",
    "from sklearn.metrics import silhouette_score\n",
    "\n",
    "params = [{'n_clusters': list(range(2,11))}]\n",
    "\n",
    "pg = list(ParameterGrid(param_grid=params))\n",
    "\n",
    "silhouette = []\n",
    "inertia = []\n",
    "\n",
    "for i in range(len(pg)):\n",
    "    km_model = KMeans(**(pg[i]))\n",
    "    y_pred_km = km_model.fit_predict(X)\n",
    "    \n",
    "    silhouette.append(silhouette_score(X, y_pred_km))\n",
    "    inertia.append(km_model.inertia_)"
   ]
  },
  {
   "cell_type": "markdown",
   "metadata": {},
   "source": [
    "In order to decide the right number of clusters, let's plot the inertia and silhouette graphs"
   ]
  },
  {
   "cell_type": "code",
   "execution_count": 63,
   "metadata": {},
   "outputs": [
    {
     "data": {
      "image/png": "[encoded data removed]",
      "text/plain": [
       "<Figure size 640x480 with 2 Axes>"
      ]
     },
     "metadata": {},
     "output_type": "display_data"
    }
   ],
   "source": [
    "fig, ax1 = plt.subplots()\n",
    "ax2 = ax1.twinx()\n",
    "\n",
    "ax1.plot(list(range(2,11)), inertia, color='red')\n",
    "ax1.set_xlabel(\"Number of clusters\")\n",
    "ax1.set_ylabel(\"Inertia score\", color='red')\n",
    "\n",
    "ax2.plot(list(range(2,11)), silhouette, color='blue')\n",
    "ax2.set_ylabel(\"Silhouette score\", color='blue')\n",
    "ax2.set_ylim(0,1)\n",
    "\n",
    "plt.show()"
   ]
  },
  {
   "cell_type": "markdown",
   "metadata": {},
   "source": [
    "In order to decide the right number of clusters, we need to focus on the k value in which the inertia's slope is decreasing and the silhouette score has a maximum point. \n",
    "\n",
    "We might find this condition in $k=3$.\n"
   ]
  },
  {
   "cell_type": "code",
   "execution_count": 64,
   "metadata": {},
   "outputs": [
    {
     "name": "stdout",
     "output_type": "stream",
     "text": [
      "The KMeans with K=3 clusters, produces:\n",
      " Inertia = 54.223571847855716,\n",
      " Silhouette score = 0.7281970462432884\n"
     ]
    }
   ],
   "source": [
    "# train and predict using the correct k\n",
    "\n",
    "K = 3\n",
    "\n",
    "km_model = KMeans(n_clusters=K)\n",
    "y_pred_km = km_model.fit_predict(X)\n",
    "\n",
    "silhouette_k = silhouette_score(X, y_pred_km)\n",
    "inertia_k = km_model.inertia_\n",
    "\n",
    "print(\"The KMeans with K={} clusters, produces:\\n Inertia = {},\\n Silhouette score = {}\".format(\n",
    "    K, inertia_k, silhouette_k\n",
    "))\n"
   ]
  },
  {
   "cell_type": "code",
   "execution_count": 70,
   "metadata": {},
   "outputs": [],
   "source": [
    "# second try: Agglomerative Clustering\n",
    "from sklearn.cluster import AgglomerativeClustering\n",
    "\n",
    "params = [{'n_clusters': list(range(2,11)), \n",
    "           'linkage': ['ward', 'single', 'complete', 'average']\n",
    "         }]\n",
    "\n",
    "pg = list(ParameterGrid(params))\n",
    "results = pd.DataFrame(columns=[\"Linkage\", \"N_clusters\", \"silhouette_score\"])\n",
    "\n",
    "for i in range(len(pg)):\n",
    "    ac_model = AgglomerativeClustering(**(pg[i]))\n",
    "    y_pred_ac = ac_model.fit_predict(X)\n",
    "\n",
    "    results.loc[len(results)] = [pg[i]['linkage'], pg[i]['n_clusters'], silhouette_score(X, y_pred_ac)]"
   ]
  },
  {
   "cell_type": "code",
   "execution_count": 71,
   "metadata": {},
   "outputs": [
    {
     "data": {
      "text/html": [
       "<div>\n",
       "<style scoped>\n",
       "    .dataframe tbody tr th:only-of-type {\n",
       "        vertical-align: middle;\n",
       "    }\n",
       "\n",
       "    .dataframe tbody tr th {\n",
       "        vertical-align: top;\n",
       "    }\n",
       "\n",
       "    .dataframe thead th {\n",
       "        text-align: right;\n",
       "    }\n",
       "</style>\n",
       "<table border=\"1\" class=\"dataframe\">\n",
       "  <thead>\n",
       "    <tr style=\"text-align: right;\">\n",
       "      <th></th>\n",
       "      <th>Linkage</th>\n",
       "      <th>N_clusters</th>\n",
       "      <th>silhouette_score</th>\n",
       "    </tr>\n",
       "  </thead>\n",
       "  <tbody>\n",
       "    <tr>\n",
       "      <th>1</th>\n",
       "      <td>ward</td>\n",
       "      <td>3</td>\n",
       "      <td>0.728211</td>\n",
       "    </tr>\n",
       "    <tr>\n",
       "      <th>28</th>\n",
       "      <td>average</td>\n",
       "      <td>3</td>\n",
       "      <td>0.719239</td>\n",
       "    </tr>\n",
       "    <tr>\n",
       "      <th>27</th>\n",
       "      <td>average</td>\n",
       "      <td>2</td>\n",
       "      <td>0.710944</td>\n",
       "    </tr>\n",
       "    <tr>\n",
       "      <th>0</th>\n",
       "      <td>ward</td>\n",
       "      <td>2</td>\n",
       "      <td>0.708720</td>\n",
       "    </tr>\n",
       "    <tr>\n",
       "      <th>29</th>\n",
       "      <td>average</td>\n",
       "      <td>4</td>\n",
       "      <td>0.688199</td>\n",
       "    </tr>\n",
       "  </tbody>\n",
       "</table>\n",
       "</div>"
      ],
      "text/plain": [
       "    Linkage  N_clusters  silhouette_score\n",
       "1      ward           3          0.728211\n",
       "28  average           3          0.719239\n",
       "27  average           2          0.710944\n",
       "0      ward           2          0.708720\n",
       "29  average           4          0.688199"
      ]
     },
     "execution_count": 71,
     "metadata": {},
     "output_type": "execute_result"
    }
   ],
   "source": [
    "results.sort_values(by=['silhouette_score'], ascending=False).head()"
   ]
  },
  {
   "cell_type": "markdown",
   "metadata": {},
   "source": [
    "As we see, even with Agglomerative Clustering we obtain the best silhouette score by setting $K=3$ and choosing the `ward` linkage."
   ]
  },
  {
   "cell_type": "code",
   "execution_count": 74,
   "metadata": {},
   "outputs": [
    {
     "name": "stdout",
     "output_type": "stream",
     "text": [
      "silhouette score of Agglomerative Clustering with k=3 and linkage='ward' is  0.7282114626229805\n"
     ]
    }
   ],
   "source": [
    "ac_fin = AgglomerativeClustering(n_clusters=3, linkage='ward')\n",
    "y_pred_ac = ac_fin.fit_predict(X)\n",
    "\n",
    "print(\"silhouette score of Agglomerative Clustering with k=3 and linkage=\\'ward\\' is \", silhouette_score(X, y_pred_ac))"
   ]
  },
  {
   "cell_type": "markdown",
   "metadata": {},
   "source": [
    "The two cluster algorithms are almost identical wrt the silhouette score and number of clusters."
   ]
  },
  {
   "cell_type": "markdown",
   "metadata": {},
   "source": [
    "show the difference between the original \"y\" column and the labels generated by the clustering, it can be expressed as \"accuracy\", produce also the confusion matrix."
   ]
  },
  {
   "cell_type": "code",
   "execution_count": 76,
   "metadata": {},
   "outputs": [
    {
     "name": "stdout",
     "output_type": "stream",
     "text": [
      "The accuracy score for the KMeans is 83.25%.\n",
      "The accuracy score for Agglomerative Clustering is 83.25%\n"
     ]
    }
   ],
   "source": [
    "from sklearn.metrics import accuracy_score, confusion_matrix, ConfusionMatrixDisplay\n",
    "\n",
    "km_accuracy = accuracy_score(y, y_pred_km)\n",
    "ac_accuracy = accuracy_score(y, y_pred_ac)\n",
    "\n",
    "print(\"The accuracy score for the KMeans is {}%.\\nThe accuracy score for Agglomerative Clustering is {}%\".format(km_accuracy *100, ac_accuracy*100))"
   ]
  },
  {
   "cell_type": "code",
   "execution_count": 79,
   "metadata": {},
   "outputs": [
    {
     "name": "stdout",
     "output_type": "stream",
     "text": [
      "Confusion Matrix of KMeans:\n"
     ]
    },
    {
     "data": {
      "image/png": "[encoded data removed]",
      "text/plain": [
       "<Figure size 640x480 with 2 Axes>"
      ]
     },
     "metadata": {},
     "output_type": "display_data"
    },
    {
     "name": "stdout",
     "output_type": "stream",
     "text": [
      "Confusion Matrix of Agglomerative Clustering:\n"
     ]
    },
    {
     "data": {
      "image/png": "[encoded data removed]",
      "text/plain": [
       "<Figure size 640x480 with 2 Axes>"
      ]
     },
     "metadata": {},
     "output_type": "display_data"
    }
   ],
   "source": [
    "km_cm = confusion_matrix(y, y_pred_km)\n",
    "ac_cm = confusion_matrix(y, y_pred_ac)\n",
    "\n",
    "km_disp = ConfusionMatrixDisplay(confusion_matrix=km_cm, display_labels=np.unique(y_pred_km))\n",
    "ac_disp = ConfusionMatrixDisplay(confusion_matrix=ac_cm, display_labels=np.unique(y_pred_ac))\n",
    "\n",
    "print(\"Confusion Matrix of KMeans:\")\n",
    "km_disp.plot()\n",
    "\n",
    "plt.show()\n",
    "print(\"Confusion Matrix of Agglomerative Clustering:\")\n",
    "ac_disp.plot()\n",
    "\n",
    "plt.show()"
   ]
  },
  {
   "cell_type": "markdown",
   "metadata": {},
   "source": [
    "As we see, both clustering algorithms are pretty good in general, except for labelling correctly the label \"2\"."
   ]
  },
  {
   "cell_type": "markdown",
   "metadata": {},
   "source": [
    "Apply the same transformation to `dataset2`, the apply the best clustering scheme and hyper parameters and plot the data with the assigned lables."
   ]
  }
 ],
 "metadata": {
  "kernelspec": {
   "display_name": "MachineLearning",
   "language": "python",
   "name": "python3"
  },
  "language_info": {
   "codemirror_mode": {
    "name": "ipython",
    "version": 3
   },
   "file_extension": ".py",
   "mimetype": "text/x-python",
   "name": "python",
   "nbconvert_exporter": "python",
   "pygments_lexer": "ipython3",
   "version": "3.13.0"
  }
 },
 "nbformat": 4,
 "nbformat_minor": 2
}
